{
  "nbformat": 4,
  "nbformat_minor": 0,
  "metadata": {
    "colab": {
      "name": "Metodo_de_Euler.ipynb",
      "provenance": []
    },
    "kernelspec": {
      "name": "python3",
      "display_name": "Python 3"
    }
  },
  "cells": [
    {
      "cell_type": "markdown",
      "metadata": {
        "id": "OH08n81IPuMR",
        "colab_type": "text"
      },
      "source": [
        "#<b>Implementación simple del método de Euler</b>\n",
        "\n",
        "##<b>Introducción</b>\n",
        "\n",
        "#<b>Métodos numéricos para ecuaciones diferenciales ordinarias.</b>\n",
        " \n",
        "\n",
        "Muchas ecuaciones diferenciales no pueden resolverse mediante el cálculo simbólico (\"análisis\"). Sin embargo, para fines prácticos, como en ingeniería, una aproximación numérica a la solución a menudo es suficiente.\n",
        "\n",
        "Las ecuaciones diferenciales constituyen una de las herramientas matemáticas más poderosas para comprender y predecir el comportamiento de los sistemas dinámicos en la naturaleza, la ingeniería y la sociedad. Un sistema dinámico es un sistema con algún estado, generalmente expresado por un conjunto de variables, que evoluciona en el tiempo. Por ejemplo, un péndulo oscilante, la propagación de una enfermedad y el clima son ejemplos de sistemas dinámicos.\n",
        "\n",
        "En todo tipo de ciencias naturales, encontramos ecuaciones diferenciales. Estas ecuaciones pueden ser bastante complicadas de resolver analíticamente y la mayoría de las veces no existe una solución analítica.\n",
        "\n",
        "El propósito de este cuaderno es simplemente demostrar <b>cómo</b> se puede resolver una EDO. No nos centraremos en la teoría detrás del método de Euler, nos centraremos únicamente en la <b>implementación</b> de nuestro solucionador de ODE.\n",
        "\n",
        "Los modelos más toscos para modelar el crecimiento bacteriano son una excelente opción para demostrar el método de Euler, ya que la ecuación diferencial que rige este crecimiento es bastante simple.\n",
        "\n",
        "##<b>Teoría</b>\n",
        "\n",
        "<b>Crecimiento de la población</b>\n",
        "\n",
        "Antes de comenzar a programar, daremos una breve introducción al crecimiento bacteriano. Las bacterias se reproducen por fisión binaria. Este es un proceso en el que una sola célula bacteriana se divide en dos, creando dos células bacterianas. Las dos nuevas células bacterianas pueden volver a dividirse en dos, creando así cuatro células bacterianas. En realidad, una sola célula bacteriana solo puede dividirse en dos una cierta cantidad de veces, pero en nuestro proyecto modelamos nuestra tasa de crecimiento como si este no fuera el caso.\n",
        "\n",
        "Entonces podemos escribir nuestra ecuación diferencial como\n",
        "\n",
        "$$\n",
        "\\frac{dy}{dt} = ky(t),\\tag{1}\n",
        "$$\n",
        "\n",
        "donde $ y (t) $ es la población $ y $ en el momento $ t $, y $ k $ es una constante de proporcionalidad. Si usamos días como unidad de tiempo y asumimos que el tamaño de la población en $ t = 1 $ es el doble del tamaño de la población en $ t = 0 $\n",
        "\n",
        "$$\n",
        "y(1) = 2y(0) \\tag{2},\n",
        "$$\n",
        "\n",
        "podemos resolver la ecuación diferencial analíticamente. Combinando las ecuaciones $ (1) $ y $ (2) $, obtenemos\n",
        "\n",
        "$$\n",
        "y(t) = \\mathrm{e}^{kt} = \\mathrm{e}^{\\mathrm{ln}(2)t} = 2^{t}. \\tag{3}\n",
        "$$\n",
        "\n",
        "La ecuación $ (3) $ describe completamente el tamaño de la población en el momento $ t $.\n",
        "\n",
        "<b>Método de Euler</b>\n",
        "\n",
        "Este párrafo intentará transmitir la mínima teoría sobre el método de Euler. Sin embargo, estos párrafos deberían ser suficientes para la implementación.\n",
        "\n",
        "En primer lugar, al resolver ecuaciones diferenciales numéricamente, necesitamos <b>discretizar</b> nuestra variable de tiempo $ t $. Por tanto,$ t $ ya no es una variable continua, en su lugar escribimos\n",
        "\n",
        "$$\n",
        "t_n = t_0 + nh, \\quad \\mathrm{with} \\quad n = 0, 1, 2,..., N,\n",
        "$$\n",
        "\n",
        "donde $ t_0 $ es el valor de tiempo donde conocemos el tamaño de nuestra <b>población inicial</b>, y $ h $ es el tamaño entre valores de tiempo discretos adyacentes. La relación entre $ N $ y $ h $ está dada por\n",
        "\n",
        "$$\n",
        "h = \\frac{t_N - t_0}{N},\n",
        "$$\n",
        "\n",
        "donde $ N $ es el número de puntos de tiempo discretos que tenemos en nuestra simulación, mientras que $ t_N $ y denotan el valor de tiempo más grande que tenemos en nuestra simulación.\n",
        "\n",
        "En general, nuestra aproximación numérica será mejor si elegimos $ h $ pequeños. Observe que a medida que disminuye el tamaño de $ h $, aumenta el número de valores de tiempo discretos entre $ t_0 $ y $ t_N $. Pagamos por el aumento de la precisión de nivel aumentando el número de cálculos necesarios, aumentando así el tiempo de ejecución de nuestro programa.\n",
        "\n",
        "Una ecuación diferencial de primer orden sin dependencia explícita del tiempo se puede escribir en la forma más general\n",
        "\n",
        "$$\n",
        "\\frac{dy}{dt} = g(y),\n",
        "\\tag{4}\n",
        "$$\n",
        "\n",
        "donde $ g (y) $ es la ecuación que gobierna la tasa de cambio de nuestra función $ y (t) $. En nuestro caso, $ g (y) = ky $.\n",
        "\n",
        "Si conocemos el tamaño de la población en $ t_0 $ y denotamos este valor como $ y_0 $, podemos usar el método de Euler para encontrar una aproximación del tamaño de la población en $ t_1 = t_0 + h $. El tamaño de la población en $ t_1 $ se denota como $ y_1 $. Esta aproximación se puede calcular mediante la fórmula\n",
        "\n",
        "$$\n",
        "y_1 = y_0 + hg(y_0).\n",
        "$$\n",
        "\n",
        "Ahora, para encontrar el tamaño de la población $ y_2 $ en $ t_2 = t_1 + h = t_0 + 2h $, usamos la misma fórmula, pero con $ y_1 $ en lugar de $ y_0 $\n",
        "\n",
        "$$\n",
        "y_2 = y_1 + h g(y_1).\n",
        "$$\n",
        "\n",
        "La forma más general del método de Euler se escribe como\n",
        "\n",
        "$$\n",
        "y_{n+1} = y_n + h g(y_n),\n",
        "\\tag{5}\n",
        "$$\n",
        "\n",
        "donde tenemos la condición inicial de que$$\n",
        "y(t_0) = y_0.\n",
        "$$\n",
        "\n",
        "Ahora podemos implementar el método de Euler en Python y comparar nuestros resultados numéricos con la solución analítica dada en la ecuación $ (3) $.\n",
        "\n",
        "##<b>Implementación</b>"
      ]
    },
    {
      "cell_type": "code",
      "metadata": {
        "id": "khhkKeqXRd4y",
        "colab_type": "code",
        "colab": {}
      },
      "source": [
        "#importar las librerias\n",
        "\n",
        "import numpy as np\n",
        "import matplotlib.pyplot as plt\n",
        "\n",
        "%matplotlib inline "
      ],
      "execution_count": 1,
      "outputs": []
    },
    {
      "cell_type": "code",
      "metadata": {
        "id": "-6p4vyT0C_yd",
        "colab_type": "code",
        "colab": {}
      },
      "source": [
        "def euler_sig(yn, h, f):\n",
        "  y_next = yn + h*f(yn)\n",
        "  return y_next\n",
        "\n",
        "def euler(y0,h,fun,t_ini,t_fin):\n",
        "  N = int ((t_fin - t_ini) / h)\n",
        "  t = np.linspace(t_ini,t_fin,N + 1)\n",
        "\n",
        "  y = np.zeros(N + 1)\n",
        "  y[0] = y0\n",
        "\n",
        "  for i in range (0 , N):\n",
        "    y [i + 1] = euler_sig(y[i],h,fun)\n",
        "\n",
        "  return t,y"
      ],
      "execution_count": 2,
      "outputs": []
    },
    {
      "cell_type": "code",
      "metadata": {
        "id": "WC7VwPrWFune",
        "colab_type": "code",
        "colab": {
          "base_uri": "https://localhost:8080/",
          "height": 282
        },
        "outputId": "d37a51dc-a8ae-41f8-8602-da9fe2f51d6b"
      },
      "source": [
        "def g(y):\n",
        "  crecimiento = np.log(2)*y\n",
        "  return crecimiento\n",
        "\n",
        "# Inicializar las Variables\n",
        "h = 0.1 #para disminuir el error se puede disminuir h que es el paso (Ej: 0,001)\n",
        "t_ini = 0\n",
        "t_fin = 10\n",
        "y_ini = 1\n",
        "\n",
        "#Sistema numerico \n",
        "t,y = euler(y_ini, h, g, t_ini, t_fin)\n",
        "plt.plot(t,y, label = 'numerica')\n",
        "\n",
        "#Sistema analitico\n",
        "plt.plot(t,np.power(2,t), label = 'analitica')\n",
        "\n",
        "plt.legend()\n",
        "\n",
        "last_num = y[-1] #ultimo numero analisis numerico\n",
        "last_an = np.power(2,t[-1]) #ultimo numero analisis analitico\n",
        "\n",
        "#diferencia en el tiempo 10\n",
        "print('El error del metodo para un h = {} es de {}'.format(h,(last_an-last_num)))"
      ],
      "execution_count": 5,
      "outputs": [
        {
          "output_type": "stream",
          "text": [
            "El error del metodo para un h = 0.1 es de 210.13110670005676\n"
          ],
          "name": "stdout"
        },
        {
          "output_type": "display_data",
          "data": {
            "image/png": "[encoded data removed]",
            "text/plain": [
              "<Figure size 432x288 with 1 Axes>"
            ]
          },
          "metadata": {
            "tags": [],
            "needs_background": "light"
          }
        }
      ]
    },
    {
      "cell_type": "markdown",
      "metadata": {
        "id": "q83OIsOi1HOy",
        "colab_type": "text"
      },
      "source": [
        "Ahora que tenemos nuestras funciones definidas, podemos simular la población bacteriana. Solo necesitamos definir nuestro RHS (lado derecho) de nuestra ecuación diferencial, que en la parte de la teoría denotamos como $ g (y) $.\n",
        "\n",
        "Vemos que a nuestro modelo le va bastante bien con un tamaño de paso $ h = 0.0\n",
        "1 $, ya que solo se desvía de la solución analítica en 24 células bacterianas, o 2,4%. Al elegir un $ h $ más pequeño, podríamos aumentar la precisión de nuestro resultado. Por ejemplo, eligiendo $ h = 0.001 $, solo obtendríamos una desviación de 2.4 células bacterianas, o 0.24%.\n",
        "\n",
        "El lector podría preguntarse por qué querríamos usar el método de Euler en este caso, ya que tenemos una solución analítica perfectamente fina. Esta ecuación diferencial tiene una solución analítica, sin embargo, este no es siempre el caso. Solo elegimos este ejemplo porque podemos comparar nuestros resultados numéricos con la respuesta correcta, y así validar nuestro procedimiento. Cambiar nuestra ecuación inicial para el crecimiento, ecuación $ (5) $, a algo llamado modelo de crecimiento logístico en el formulario\n",
        "\n",
        "$$\n",
        "\\frac{dy}{dt} = ky(1 - \\frac{y}{m}),\n",
        "\\tag{6}\n",
        "$$\n",
        "donde $ m $ es una constante, no podemos resolver esta ecuación analíticamente. Sin embargo, ¡todavía podemos usar el método de Euler!"
      ]
    },
    {
      "cell_type": "code",
      "metadata": {
        "id": "4qp8MhEr1Jp0",
        "colab_type": "code",
        "colab": {
          "base_uri": "https://localhost:8080/",
          "height": 282
        },
        "outputId": "9b62ab80-8f74-4f5e-c325-3f46275ca0a5"
      },
      "source": [
        "def r(y):\n",
        "  k=2\n",
        "  m=100\n",
        "  crecimiento=k*y*(1-y/m)\n",
        "  return crecimiento\n",
        "\n",
        "# Valores de variables\n",
        "h=0.001\n",
        "t_ini=0\n",
        "t_fin=10\n",
        "y_ini=0.1\n",
        "\n",
        "#Sistema numérico\n",
        "t,y=euler(y_ini,h,r,t_ini,t_fin)\n",
        "plt.plot(t,y, label='numérica')\n",
        "\n",
        "plt.legend()"
      ],
      "execution_count": 6,
      "outputs": [
        {
          "output_type": "execute_result",
          "data": {
            "text/plain": [
              "<matplotlib.legend.Legend at 0x7fbf7f963d68>"
            ]
          },
          "metadata": {
            "tags": []
          },
          "execution_count": 6
        },
        {
          "output_type": "display_data",
          "data": {
            "image/png": "[encoded data removed]",
            "text/plain": [
              "<Figure size 432x288 with 1 Axes>"
            ]
          },
          "metadata": {
            "tags": [],
            "needs_background": "light"
          }
        }
      ]
    },
    {
      "cell_type": "markdown",
      "metadata": {
        "id": "RU-GZUUL1T-g",
        "colab_type": "text"
      },
      "source": [
        "Este gráfico ilustra perfectamente la esencia del método de Euler y las soluciones numéricas de las EDO en general. Aunque no tenemos una solución analítica para validar nuestros resultados, aún podemos extraer información importante de nuestros resultados numéricos y validar los resultados a través de argumentos físicos. La constante $ m $ en $ (6) $ se llama capacidad de carga, el nombre se manifiesta en nuestra gráfica, ya que observamos que la población aumenta exponencialmente los primeros cinco días, pero luego parece converger hacia 100 bacterias después de 8 días. . Físicamente, una posible explicación podría ser que nuestro sistema solo tiene los recursos para mantener una población de 100 bacterias, y que más bacterias morirían.\n",
        "\n",
        "#<b>Conclusión</b>\n",
        "\n",
        "Aunque el método de Euler es muy simple de implementar, sigue siendo una herramienta poderosa para resolver EDO. En este cuaderno hemos utilizado el método de Euler para resolver la ecuación diferencial que gobierna el crecimiento de la población en una colonia bacteriana, pero la implementación también se puede utilizar para resolver cualquier EDO sin dependencia temporal explícita.\n",
        "\n",
        "<b>Ejemplo Ley de enfriamiento de Newton:</b>\n",
        "\n",
        "Esta ley describe como un objeto con temperatura inicial de $T_{t=0}=T_0$ se enfria en un ambiente de temperatura $T_R$"
      ]
    },
    {
      "cell_type": "code",
      "metadata": {
        "id": "Dskt3BSk1nx7",
        "colab_type": "code",
        "colab": {}
      },
      "source": [
        "import matplotlib.style\n",
        "matplotlib.style.use('classic')\n",
        "import numpy as np\n",
        "from matplotlib import pyplot as plt"
      ],
      "execution_count": 7,
      "outputs": []
    },
    {
      "cell_type": "code",
      "metadata": {
        "id": "_s65ssEb1pu2",
        "colab_type": "code",
        "colab": {}
      },
      "source": [
        "def euler( derivadas, h, tini, tfin, x0, params ):\n",
        "    ti = tini  \n",
        "    xi = x0\n",
        "  \n",
        "    x = list()\n",
        "    t = list()\n",
        "  \n",
        "    while ( ti < tfin ):\n",
        "    \n",
        "      x.append (xi)\n",
        "      t.append (ti)\n",
        "  \n",
        "      xi = xi + h*derivadas(ti,xi,params)\n",
        "      ti = ti + h\n",
        "    return t, x"
      ],
      "execution_count": 8,
      "outputs": []
    },
    {
      "cell_type": "markdown",
      "metadata": {
        "id": "8whQnud61vbS",
        "colab_type": "text"
      },
      "source": [
        "Ex 1. Comparación de métodos Dada la ecuación diferencial:\n",
        "\n",
        "x˙=ax\n",
        "\n",
        "Siendo a∈R una constante cualquiera. Grafique la solución analítica y las aproximaciones numéricas obtenidas con el método de Euler y con el método RK4.\n",
        "\n",
        "Varíe el paso de integración h a fin de observar cómo varía la precisión de los resultados numéricos a medida que éste se hace más pequeño."
      ]
    },
    {
      "cell_type": "code",
      "metadata": {
        "id": "qKseAG_I1zqM",
        "colab_type": "code",
        "colab": {}
      },
      "source": [
        "def sistema_1(t, x, a):\n",
        "    x_dot = a*x\n",
        "    return x_dot"
      ],
      "execution_count": 9,
      "outputs": []
    },
    {
      "cell_type": "code",
      "metadata": {
        "id": "CAGGdF_c12as",
        "colab_type": "code",
        "colab": {
          "base_uri": "https://localhost:8080/",
          "height": 459
        },
        "outputId": "1d811ffd-6db2-4ed9-f876-0fdb8a9ec5b3"
      },
      "source": [
        "a = 1\n",
        "h = 0.1\n",
        "tini = 0\n",
        "tfin = 10\n",
        "x0 = 1\n",
        "r=5\n",
        "\n",
        "t = np.linspace(0,10,1001)\n",
        "x = x0*np.exp(a*t)\n",
        "\n",
        "t1,x1 = euler( sistema_1, h, tini, tfin, x0, a )\n",
        "#t2,x2 = rk4( sistema_1, h, tini, tfin, x0, a )\n",
        "\n",
        "\n",
        "plt.figure()\n",
        "# gráfica de analítica:\n",
        "plt.plot(  t, x, 'black', label = 'Analytical', linewidth = 2)\n",
        "# gráfica de euler:\n",
        "plt.scatter( t1, x1, c = 'crimson', label = 'Euler', s = 50)\n",
        "# gráfica de rk4:\n",
        "#plt.scatter( t2, x2, c = 'royalblue', label = 'RK4', s = 50)\n",
        "\n",
        "plt.xlim([0, 2])\n",
        "plt.ylim([-0, 4])\n",
        "plt.xlabel(r'$t$')\n",
        "plt.grid()\n",
        "plt.legend(loc = 'best')\n",
        "plt.show()"
      ],
      "execution_count": 10,
      "outputs": [
        {
          "output_type": "display_data",
          "data": {
            "image/png": "[encoded data removed]",
            "text/plain": [
              "<Figure size 640x480 with 1 Axes>"
            ]
          },
          "metadata": {
            "tags": []
          }
        }
      ]
    }
  ]
}