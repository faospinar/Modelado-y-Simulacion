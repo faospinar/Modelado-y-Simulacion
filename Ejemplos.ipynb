{
  "nbformat": 4,
  "nbformat_minor": 0,
  "metadata": {
    "colab": {
      "name": "Ejemplos.ipynb",
      "provenance": []
    },
    "kernelspec": {
      "name": "python3",
      "display_name": "Python 3"
    }
  },
  "cells": [
    {
      "cell_type": "markdown",
      "metadata": {
        "id": "dFB2kDbl3P_z",
        "colab_type": "text"
      },
      "source": [
        "<b>Ejemplo 2:</b>\n",
        "\n",
        "Escribir una función que reciba una muestra de números en una lista y devuelva otra lista con sus cuadrados."
      ]
    },
    {
      "cell_type": "code",
      "metadata": {
        "id": "Q-J_ogKR9r_Z",
        "colab_type": "code",
        "colab": {}
      },
      "source": [
        "#importar las librerias\n",
        "\n",
        "import numpy as np\n",
        "import matplotlib.pyplot as plt\n",
        "\n",
        "%matplotlib inline\n"
      ],
      "execution_count": null,
      "outputs": []
    },
    {
      "cell_type": "code",
      "metadata": {
        "id": "yS36yqlG3dVs",
        "colab_type": "code",
        "colab": {
          "base_uri": "https://localhost:8080/",
          "height": 34
        },
        "outputId": "88439ac2-5522-4eaa-ea84-11a8691853a3"
      },
      "source": [
        "def cuadrados(numeros):            # Se define una funcion denominada cuadrados que recibe una lista de numeros\n",
        "  lista = []                       # Se crea un arreglo donde se iran guardando los cuadrados de los numeros  \n",
        "  for i in numeros:                # Ciclo para recorrer la lista de numeros ingresada\n",
        "    lista.append(i**2)             # Operacion que toma cada numero ingresado, adquiere el cuadrado y lo organiza en la lista nueva\n",
        "  return (lista)                   # devuelve la lista con los cuadrados de cada numero ingresado\n",
        " \n",
        "print(cuadrados([1, 2, 3, 4, 5]))  # Sentencia para imprimir los cuadrados de los numeros ingresados"
      ],
      "execution_count": null,
      "outputs": [
        {
          "output_type": "stream",
          "text": [
            "[1, 4, 9, 16, 25]\n"
          ],
          "name": "stdout"
        }
      ]
    },
    {
      "cell_type": "markdown",
      "metadata": {
        "id": "7f_TPvkp3eNg",
        "colab_type": "text"
      },
      "source": [
        "<b>Ejemplo 3:</b>\n",
        "\n",
        "Escribir una función que convierta un número decimal en binario y otra que convierta un número binario en decimal."
      ]
    },
    {
      "cell_type": "code",
      "metadata": {
        "id": "GY2J3eub3gFL",
        "colab_type": "code",
        "colab": {
          "base_uri": "https://localhost:8080/",
          "height": 51
        },
        "outputId": "c40081f4-bcd9-4118-88db-d96393201c29"
      },
      "source": [
        "def binario(numero):                         # Se define la funcion que se encargara de convertir el numero ingresado a binario\n",
        "  resultado = ''                             # el resultado se guardara en una variable que es tipo string\n",
        "  while numero // 2 != 0:                    # Ciclo WHILE que se usa para evaluar si la division entre el numero ingresado y el denominador 2 es diferente de 0 \n",
        "    resultado = str(numero % 2) + resultado  # \n",
        "    numero = numero // 2                      \n",
        "  return str(numero) + resultado\n",
        "\n",
        "numero = int(input('Introduzca el número a convertir a binario: '))\n",
        "print(binario(numero))"
      ],
      "execution_count": null,
      "outputs": [
        {
          "output_type": "stream",
          "text": [
            "Introduzca el número a convertir a binario: 8\n",
            "1000\n"
          ],
          "name": "stdout"
        }
      ]
    },
    {
      "cell_type": "code",
      "metadata": {
        "id": "rYp5-VFCeoU2",
        "colab_type": "code",
        "colab": {
          "base_uri": "https://localhost:8080/",
          "height": 214
        },
        "outputId": "5f44ec77-8f86-4bde-f201-960e91dfd86e"
      },
      "source": [
        "def decimal(numero):\n",
        "  exponente = 0\n",
        "  if numero:\n",
        "    for i in numero:\n",
        "      lista = numero [::-1] \n",
        "    return lista\n",
        "  else:\n",
        "    print('numero incorrecto')\n",
        "  for j in lista:\n",
        "    resultado = lista[j]*2**(exponente)\n",
        "    exponente = exponente + 1\n",
        "  return resultado\n",
        "print(decimal('1000'))\n",
        "print (resultado)"
      ],
      "execution_count": null,
      "outputs": [
        {
          "output_type": "stream",
          "text": [
            "0001\n"
          ],
          "name": "stdout"
        },
        {
          "output_type": "error",
          "ename": "NameError",
          "evalue": "ignored",
          "traceback": [
            "\u001b[0;31m---------------------------------------------------------------------------\u001b[0m",
            "\u001b[0;31mNameError\u001b[0m                                 Traceback (most recent call last)",
            "\u001b[0;32m<ipython-input-1-c24bd8eb2eaa>\u001b[0m in \u001b[0;36m<module>\u001b[0;34m()\u001b[0m\n\u001b[1;32m     12\u001b[0m   \u001b[0;32mreturn\u001b[0m \u001b[0mresultado\u001b[0m\u001b[0;34m\u001b[0m\u001b[0;34m\u001b[0m\u001b[0m\n\u001b[1;32m     13\u001b[0m \u001b[0mprint\u001b[0m\u001b[0;34m(\u001b[0m\u001b[0mdecimal\u001b[0m\u001b[0;34m(\u001b[0m\u001b[0;34m'1000'\u001b[0m\u001b[0;34m)\u001b[0m\u001b[0;34m)\u001b[0m\u001b[0;34m\u001b[0m\u001b[0;34m\u001b[0m\u001b[0m\n\u001b[0;32m---> 14\u001b[0;31m \u001b[0mprint\u001b[0m \u001b[0;34m(\u001b[0m\u001b[0mresultado\u001b[0m\u001b[0;34m)\u001b[0m\u001b[0;34m\u001b[0m\u001b[0;34m\u001b[0m\u001b[0m\n\u001b[0m",
            "\u001b[0;31mNameError\u001b[0m: name 'resultado' is not defined"
          ]
        }
      ]
    },
    {
      "cell_type": "markdown",
      "metadata": {
        "id": "9GC1i11E3g7Y",
        "colab_type": "text"
      },
      "source": [
        "<b>Ejemplo 4:</b>\n",
        "\n",
        "Escribir un programa que reciba una cadena de caracteres y devuelva un diccionario con cada palabra que contiene y su frecuencia. Escribir otra función que reciba el diccionario generado con la función anterior y devuelva una tupla con la palabra más repetida y su frecuencia."
      ]
    },
    {
      "cell_type": "code",
      "metadata": {
        "id": "KMqzfnF53iAE",
        "colab_type": "code",
        "colab": {
          "base_uri": "https://localhost:8080/",
          "height": 119
        },
        "outputId": "0c65a57f-dabc-4189-d7d2-00a7928a842c"
      },
      "source": [
        "cadena = 'hola'\n",
        "diccionario = {'h': 'one', 'o': 'two', 'l': 'three', 'a': 'four'}\n",
        "\n",
        "print(diccionario['h'])\n",
        "print(diccionario['o'])\n",
        "print(diccionario['l'])\n",
        "print(diccionario['a'])   \n",
        "print('o' in diccionario)\n",
        "print('p' in diccionario)"
      ],
      "execution_count": 9,
      "outputs": [
        {
          "output_type": "stream",
          "text": [
            "one\n",
            "two\n",
            "three\n",
            "four\n",
            "True\n",
            "False\n"
          ],
          "name": "stdout"
        }
      ]
    },
    {
      "cell_type": "code",
      "metadata": {
        "id": "cFoWEd0oEwy_",
        "colab_type": "code",
        "colab": {}
      },
      "source": [
        ""
      ],
      "execution_count": null,
      "outputs": []
    }
  ]
}